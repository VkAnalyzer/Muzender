{
 "cells": [
  {
   "cell_type": "code",
   "execution_count": null,
   "metadata": {},
   "outputs": [],
   "source": [
    "import pickle\n",
    "import numpy as np\n",
    "import pandas as pd\n",
    "from scipy import sparse\n",
    "import gensim\n",
    "import tqdm"
   ]
  },
  {
   "cell_type": "markdown",
   "metadata": {},
   "source": [
    "### reformat data"
   ]
  },
  {
   "cell_type": "code",
   "execution_count": null,
   "metadata": {},
   "outputs": [],
   "source": [
    "%%time\n",
    "class DatasetToW2V(object):\n",
    "    def __init__(self, file_path):\n",
    "        with open(file_path, 'rb') as f:\n",
    "            dataset = pickle.load(f)\n",
    "            self.dataset = sparse.csr_matrix(dataset.to_coo())\n",
    "            self.names = dataset.columns\n",
    "\n",
    "    def __iter__(self):\n",
    "        for user_items in tqdm.tqdm(self.dataset):\n",
    "            indxs = user_items.nonzero()[1]\n",
    "            yield list(self.names[indxs])\n",
    "\n",
    "\n",
    "music_collections = DatasetToW2V('../data/final.pkl')"
   ]
  },
  {
   "cell_type": "markdown",
   "metadata": {},
   "source": [
    "### fit model"
   ]
  },
  {
   "cell_type": "code",
   "execution_count": null,
   "metadata": {},
   "outputs": [],
   "source": [
    "%%time\n",
    "estimator = gensim.models.Word2Vec(music_collections,\n",
    "                                   window=10\n",
    "                                   min_count=30,  # number of users who read book\n",
    "                                   sg=1,\n",
    "                                   workers=4,\n",
    "                                   iter=30,\n",
    "                                  )"
   ]
  },
  {
   "cell_type": "code",
   "execution_count": null,
   "metadata": {},
   "outputs": [],
   "source": [
    "with open('../data/model_w2v.pkl', 'wb') as f:\n",
    "    pickle.dump(estimator, f)"
   ]
  },
  {
   "cell_type": "markdown",
   "metadata": {},
   "source": [
    "### add band popularity"
   ]
  },
  {
   "cell_type": "code",
   "execution_count": null,
   "metadata": {},
   "outputs": [],
   "source": [
    "singers = estimator.wv.vocab.keys()\n",
    "popularity = {}\n",
    "\n",
    "for singer in singers:\n",
    "    popularity[singer] = estimator.wv.vocab[singer].count\n",
    "\n",
    "with open('../data/popularity.pkl', 'wb') as f:\n",
    "    pickle.dump(popularity, f)"
   ]
  }
 ],
 "metadata": {
  "kernelspec": {
   "display_name": "Python 3",
   "language": "python",
   "name": "python3"
  },
  "language_info": {
   "codemirror_mode": {
    "name": "ipython",
    "version": 3
   },
   "file_extension": ".py",
   "mimetype": "text/x-python",
   "name": "python",
   "nbconvert_exporter": "python",
   "pygments_lexer": "ipython3",
   "version": "3.7.0"
  }
 },
 "nbformat": 4,
 "nbformat_minor": 2
}
